{
 "cells": [
  {
   "cell_type": "code",
   "execution_count": 2,
   "metadata": {},
   "outputs": [
    {
     "name": "stdout",
     "output_type": "stream",
     "text": [
      "Random Neighbor Song IDs: [7569, 1697, 8666, 82, 554]\n"
     ]
    }
   ],
   "source": [
    "###### 임포트\n",
    "import pandas as pd\n",
    "import numpy as np\n",
    "import joblib\n",
    "import json\n",
    "\n",
    "###### 로드 및 추출\n",
    "df = pd.read_pickle(rf'C:/Users/401-14/Desktop/30-200/mel_genre/extracted_dataframe.pickle') # CNN 특징추출 (장르)\n",
    "loaded_model = joblib.load(rf'C:/Users/401-14/Desktop/30-200/mel_genre/knn_model.joblib')    # KNN 이웃추천\n",
    "X = np.array( [np.array(x) for x in df['total']] )           # Data 정렬\n",
    "\n",
    "###### 함수정의\n",
    "\n",
    "# song_id -> index\n",
    "def get_indices_from_song_ids(song_ids):\n",
    "    indices = []\n",
    "    for song_id in song_ids:\n",
    "        try:\n",
    "            index = df[df['key'] == song_id].index.values[0]\n",
    "            indices.append(index)\n",
    "        except IndexError:\n",
    "            pass\n",
    "    return indices\n",
    "\n",
    "# find random neighbor indices (recommend neighbor caculated by mel_spectrum with genre)\n",
    "def get_random_neighbor_indices(index_list, k=10, random_samples=5):\n",
    "    random_neighbors = set()\n",
    "    for index in index_list:\n",
    "        query_point = X[index].reshape(1, -1)\n",
    "        indices = loaded_model.kneighbors(query_point, n_neighbors=k, return_distance=False)\n",
    "        random_neighbors.update(indices[0][1:])\n",
    "    \n",
    "    # Convert the set to a list and shuffle\n",
    "    random_neighbors_list = list(random_neighbors)\n",
    "    np.random.shuffle(random_neighbors_list)\n",
    "    \n",
    "    # Take random samples (default: 5)\n",
    "    random_neighbors_list = random_neighbors_list[:random_samples]\n",
    "    \n",
    "    return random_neighbors_list\n",
    "\n",
    "# convert list of indices to song_id values\n",
    "def indices_to_song_id(data_frame, indices_list):\n",
    "    song_id_list = [data_frame.loc[index, 'key'] for index in indices_list]\n",
    "    return song_id_list\n",
    "\n",
    "def get_data_by_keys(df, random_neighbors):\n",
    "    data_list = []\n",
    "    for index, row in df.iterrows():\n",
    "        # Check if the 'key' column value is\n",
    "        if row['key'] in random_neighbors:\n",
    "            # Create a dictionary\n",
    "            data_dict = {\n",
    "                'key': row['key'], ##### 만약에 key를 song_id로 전달해줘야하면 수정해야할 부분.\n",
    "                'song_name': row['song_name'],\n",
    "                'artist_name': row['artist_name'],\n",
    "                'lyric_str': row['lyric_str'],\n",
    "                'url_new_song': row['url_new_song']\n",
    "            }\n",
    "\n",
    "            # Add the dictionary to the list\n",
    "            data_list.append(data_dict)\n",
    "            # Convert the list of dictionaries to a JSON string\n",
    "            json_data = json.dumps(data_list)\n",
    "            \n",
    "    return data_list ##### json_data(json_dump를 해야할 경우)\n",
    "\n",
    "# 전체 순차 실행 함수\n",
    "def run(index_list):\n",
    "    input_to_function = get_indices_from_song_ids(index_list)\n",
    "    # print(\"Input to Function:\", input_to_function)\n",
    "    random_neighbors = get_random_neighbor_indices(input_to_function, k=10)\n",
    "    # print(\"Random Neighbor Indices:\", random_neighbors)\n",
    "    song_id_list = indices_to_song_id(df, random_neighbors)\n",
    "    print(\"Random Neighbor Song IDs:\", song_id_list) ##### !!!!! 이 부분에 song_id_list가 출력되는 게 아니라, song_id_list를 DB에 보내지게 바꿔줘야함.\n",
    "    result = get_data_by_keys(df, song_id_list)\n",
    "    return result\n",
    "\n",
    "###### 실행부분\n",
    "input_list = [6903, 8446, 3025, 801, 1998] ##### 인풋 : 임의로 지정했지만, 스프링부트에서 들어오는 인풋리스트로 변환. (input value - integer list --- \"KEY\")\n",
    "output_json = run(input_list) ##### 아웃풋 :  type | list[dict] -> \"json\"형식으로 바꿔야 하면 변경해야함. (json.dump로 쏘면 될 것 같긴함.)\n",
    "# print(\"Output:\", output_json) ##### 확인용"
   ]
  },
  {
   "cell_type": "code",
   "execution_count": 4,
   "metadata": {},
   "outputs": [
    {
     "data": {
      "text/html": [
       "<style>#sk-container-id-1 {color: black;}#sk-container-id-1 pre{padding: 0;}#sk-container-id-1 div.sk-toggleable {background-color: white;}#sk-container-id-1 label.sk-toggleable__label {cursor: pointer;display: block;width: 100%;margin-bottom: 0;padding: 0.3em;box-sizing: border-box;text-align: center;}#sk-container-id-1 label.sk-toggleable__label-arrow:before {content: \"▸\";float: left;margin-right: 0.25em;color: #696969;}#sk-container-id-1 label.sk-toggleable__label-arrow:hover:before {color: black;}#sk-container-id-1 div.sk-estimator:hover label.sk-toggleable__label-arrow:before {color: black;}#sk-container-id-1 div.sk-toggleable__content {max-height: 0;max-width: 0;overflow: hidden;text-align: left;background-color: #f0f8ff;}#sk-container-id-1 div.sk-toggleable__content pre {margin: 0.2em;color: black;border-radius: 0.25em;background-color: #f0f8ff;}#sk-container-id-1 input.sk-toggleable__control:checked~div.sk-toggleable__content {max-height: 200px;max-width: 100%;overflow: auto;}#sk-container-id-1 input.sk-toggleable__control:checked~label.sk-toggleable__label-arrow:before {content: \"▾\";}#sk-container-id-1 div.sk-estimator input.sk-toggleable__control:checked~label.sk-toggleable__label {background-color: #d4ebff;}#sk-container-id-1 div.sk-label input.sk-toggleable__control:checked~label.sk-toggleable__label {background-color: #d4ebff;}#sk-container-id-1 input.sk-hidden--visually {border: 0;clip: rect(1px 1px 1px 1px);clip: rect(1px, 1px, 1px, 1px);height: 1px;margin: -1px;overflow: hidden;padding: 0;position: absolute;width: 1px;}#sk-container-id-1 div.sk-estimator {font-family: monospace;background-color: #f0f8ff;border: 1px dotted black;border-radius: 0.25em;box-sizing: border-box;margin-bottom: 0.5em;}#sk-container-id-1 div.sk-estimator:hover {background-color: #d4ebff;}#sk-container-id-1 div.sk-parallel-item::after {content: \"\";width: 100%;border-bottom: 1px solid gray;flex-grow: 1;}#sk-container-id-1 div.sk-label:hover label.sk-toggleable__label {background-color: #d4ebff;}#sk-container-id-1 div.sk-serial::before {content: \"\";position: absolute;border-left: 1px solid gray;box-sizing: border-box;top: 0;bottom: 0;left: 50%;z-index: 0;}#sk-container-id-1 div.sk-serial {display: flex;flex-direction: column;align-items: center;background-color: white;padding-right: 0.2em;padding-left: 0.2em;position: relative;}#sk-container-id-1 div.sk-item {position: relative;z-index: 1;}#sk-container-id-1 div.sk-parallel {display: flex;align-items: stretch;justify-content: center;background-color: white;position: relative;}#sk-container-id-1 div.sk-item::before, #sk-container-id-1 div.sk-parallel-item::before {content: \"\";position: absolute;border-left: 1px solid gray;box-sizing: border-box;top: 0;bottom: 0;left: 50%;z-index: -1;}#sk-container-id-1 div.sk-parallel-item {display: flex;flex-direction: column;z-index: 1;position: relative;background-color: white;}#sk-container-id-1 div.sk-parallel-item:first-child::after {align-self: flex-end;width: 50%;}#sk-container-id-1 div.sk-parallel-item:last-child::after {align-self: flex-start;width: 50%;}#sk-container-id-1 div.sk-parallel-item:only-child::after {width: 0;}#sk-container-id-1 div.sk-dashed-wrapped {border: 1px dashed gray;margin: 0 0.4em 0.5em 0.4em;box-sizing: border-box;padding-bottom: 0.4em;background-color: white;}#sk-container-id-1 div.sk-label label {font-family: monospace;font-weight: bold;display: inline-block;line-height: 1.2em;}#sk-container-id-1 div.sk-label-container {text-align: center;}#sk-container-id-1 div.sk-container {/* jupyter's `normalize.less` sets `[hidden] { display: none; }` but bootstrap.min.css set `[hidden] { display: none !important; }` so we also need the `!important` here to be able to override the default hidden behavior on the sphinx rendered scikit-learn.org. See: https://github.com/scikit-learn/scikit-learn/issues/21755 */display: inline-block !important;position: relative;}#sk-container-id-1 div.sk-text-repr-fallback {display: none;}</style><div id=\"sk-container-id-1\" class=\"sk-top-container\"><div class=\"sk-text-repr-fallback\"><pre>KNeighborsClassifier(n_neighbors=10)</pre><b>In a Jupyter environment, please rerun this cell to show the HTML representation or trust the notebook. <br />On GitHub, the HTML representation is unable to render, please try loading this page with nbviewer.org.</b></div><div class=\"sk-container\" hidden><div class=\"sk-item\"><div class=\"sk-estimator sk-toggleable\"><input class=\"sk-toggleable__control sk-hidden--visually\" id=\"sk-estimator-id-1\" type=\"checkbox\" checked><label for=\"sk-estimator-id-1\" class=\"sk-toggleable__label sk-toggleable__label-arrow\">KNeighborsClassifier</label><div class=\"sk-toggleable__content\"><pre>KNeighborsClassifier(n_neighbors=10)</pre></div></div></div></div></div>"
      ],
      "text/plain": [
       "KNeighborsClassifier(n_neighbors=10)"
      ]
     },
     "execution_count": 4,
     "metadata": {},
     "output_type": "execute_result"
    }
   ],
   "source": [
    "loaded_model"
   ]
  },
  {
   "cell_type": "code",
   "execution_count": 5,
   "metadata": {},
   "outputs": [],
   "source": [
    "data={\n",
    "  \"song_ids\": \"[3348, 7534,3832,1456,3309]\"\n",
    "}"
   ]
  },
  {
   "cell_type": "code",
   "execution_count": 14,
   "metadata": {},
   "outputs": [
    {
     "data": {
      "text/plain": [
       "'[3348, 7534,3832,1456,3309]'"
      ]
     },
     "execution_count": 14,
     "metadata": {},
     "output_type": "execute_result"
    }
   ],
   "source": [
    "data['song_ids']"
   ]
  },
  {
   "cell_type": "code",
   "execution_count": 15,
   "metadata": {},
   "outputs": [
    {
     "name": "stdout",
     "output_type": "stream",
     "text": [
      "[3348, 7534, 3832, 1456, 3309]\n"
     ]
    }
   ],
   "source": [
    "song_ids_str = data['song_ids']\n",
    "song_ids_list = [int(x) for x in song_ids_str.strip('[]').split(',')]\n",
    "print(song_ids_list) "
   ]
  },
  {
   "cell_type": "code",
   "execution_count": 17,
   "metadata": {},
   "outputs": [
    {
     "data": {
      "text/plain": [
       "[3348, 7534, 3832, 1456, 3309]"
      ]
     },
     "execution_count": 17,
     "metadata": {},
     "output_type": "execute_result"
    }
   ],
   "source": [
    "song_ids_list"
   ]
  },
  {
   "cell_type": "code",
   "execution_count": 25,
   "metadata": {},
   "outputs": [],
   "source": [
    "def get_indices_from_song_ids(song_ids,df):\n",
    "    indices = []\n",
    "    for song_id in song_ids:\n",
    "        try:\n",
    "            index = df[df['key'] == song_id].index.values[0]\n",
    "            indices.append(index)\n",
    "        except IndexError:\n",
    "            pass\n",
    "    return indices"
   ]
  },
  {
   "cell_type": "code",
   "execution_count": 28,
   "metadata": {},
   "outputs": [],
   "source": [
    "input_to_function=get_indices_from_song_ids(song_ids_list,df)"
   ]
  },
  {
   "cell_type": "code",
   "execution_count": 27,
   "metadata": {},
   "outputs": [],
   "source": [
    "def get_random_neighbor_indices(index_list,X,loaded_model, k=10, random_samples=5):\n",
    "    random_neighbors = set()\n",
    "    for index in index_list:\n",
    "        query_point = X[index].reshape(1, -1)\n",
    "        indices = loaded_model.kneighbors(query_point, n_neighbors=k, return_distance=False)\n",
    "        random_neighbors.update(indices[0][1:])\n",
    "\n",
    "    # Convert the set to a list and shuffle\n",
    "    random_neighbors_list = list(random_neighbors)\n",
    "    np.random.shuffle(random_neighbors_list)\n",
    "\n",
    "    # Take random samples (default: 5)\n",
    "    random_neighbors_list = random_neighbors_list[:random_samples]\n",
    "\n",
    "    return random_neighbors_list"
   ]
  },
  {
   "cell_type": "code",
   "execution_count": 40,
   "metadata": {},
   "outputs": [
    {
     "data": {
      "text/plain": [
       "[1177, 68, 1596, 301, 1293]"
      ]
     },
     "execution_count": 40,
     "metadata": {},
     "output_type": "execute_result"
    }
   ],
   "source": [
    "random_neighbors = get_random_neighbor_indices(input_to_function,X,loaded_model, k=10,random_samples=5)\n",
    "random_neighbors"
   ]
  },
  {
   "cell_type": "code",
   "execution_count": 38,
   "metadata": {},
   "outputs": [],
   "source": [
    "def indices_to_song_id(data_frame, indices_list):\n",
    "    song_id_list = [data_frame.loc[index, 'key'] for index in indices_list]\n",
    "    return song_id_list"
   ]
  },
  {
   "cell_type": "code",
   "execution_count": 41,
   "metadata": {},
   "outputs": [
    {
     "data": {
      "text/plain": [
       "[6301, 4918, 1560, 315, 2554]"
      ]
     },
     "execution_count": 41,
     "metadata": {},
     "output_type": "execute_result"
    }
   ],
   "source": [
    "song_id_list = indices_to_song_id(df, random_neighbors)\n",
    "song_id_list"
   ]
  },
  {
   "cell_type": "code",
   "execution_count": 42,
   "metadata": {},
   "outputs": [],
   "source": [
    "def get_data_by_keys(df, random_neighbors):\n",
    "    data_list = []\n",
    "    for index, row in df.iterrows():\n",
    "        # Check if the 'key' column value is\n",
    "        if row['key'] in random_neighbors:\n",
    "            # Create a dictionary\n",
    "            data_dict = {\n",
    "                'key': row['key'],  ##### 만약에 key를 song_id로 전달해줘야하면 수정해야할 부분.\n",
    "                'song_name': row['song_name'],\n",
    "                'artist_name': row['artist_name'],\n",
    "                'lyric_str': row['lyric_str'],\n",
    "                'url_new_song': row['url_new_song']\n",
    "            }\n",
    "\n",
    "            # Add the dictionary to the list\n",
    "            data_list.append(data_dict)\n",
    "            # Convert the list of dictionaries to a JSON string\n",
    "            json_data = json.dumps(data_list)\n",
    "\n",
    "    return data_list"
   ]
  },
  {
   "cell_type": "code",
   "execution_count": 43,
   "metadata": {},
   "outputs": [
    {
     "data": {
      "text/plain": [
       "[{'key': 4918,\n",
       "  'song_name': '또 사랑에 속다',\n",
       "  'artist_name': '에이트',\n",
       "  'lyric_str': '어차피 한 번은 겪을 이별 어차피 한 번은 흘릴 눈물 사랑은 속고 속이는 속고 속이는 전쟁이야 이별은 먼저 말하면 이기는 게임 그뿐이야 난 피지 못한 꽃 이곳은 온통 어둠 날 또 한 번 속인 것 그게 사랑이든 너든 쉽게 주지 않아 내게 필요한 양의 거름 딱 숨만 쉬어 그만큼만 양분을 주거든 남들에겐 사랑이 대단할지 몰라도 나에겐 별 볼일 없어 백이면 백 젖어 내 베갠 또다시 사랑이 날 속이고 익숙한 눈물이 흘러내려 아무리 잡아보려 행복하려 해도 내겐 이런 사랑만 오는 걸 또 사랑에 속고 또 이별에 울고 가슴이 와르르 무너지고 까맣게 점점 타 들어가도 억지로 웃고 거짓말을 하고 어차피 한번은 겪을 이별 어차피 한번은 흘릴 눈물 이렇게밖에 또 이렇게밖에 전에 겪었던 그리고 또 겪게 될 것 이별 없을 사랑은 결국 마지막 한번 그러니까 나머진 전부 다 결국 이별 그러니까 어차피 한 번은 겪을 이별 또다시 사랑이 날 속이고 익숙한 눈물이 흘러내려 아무리 잡아보려 행복하려 해도 내겐 이런 사랑만 오는 걸 또 사랑에 속고 또 이별에 울고 정말 이번만큼은 이러기 싫었는데 가슴이 와르르 무너지고 까맣게 점점 타 들어가도 억지로 바보같이 같은 말만 되뇌어 한번은 겪을 이별이라고 어차피 한 번은 겪을 이별 어차피 한 번은 흘릴 눈물 이 말이 다 거짓돼 핑계라고 해도 이렇게밖에 말 할 수 없어 어차피 한 번은 겪을 이별 어차피 한 번은 흘릴 눈물 사랑 은 속 고 속이는 속 고 속이는 전쟁 이야 이별 은 먼저 말 하면 이기는 게임 뿐 이야 난 피지 못 한 꽃 곳 은 온통 어둠 날 한 번 속인 그게 사랑 이든 든 쉽게 주지 않아 내게 필요한 양 거름 숨 만 쉬어 만큼만 양분 주거 든 남 에겐 사랑 대단할지 몰라도 에겐 별 볼일 없어 백이 면 백 젖어 내 베갠 또다시 사랑 날 속 이고 익숙한 눈물 흘러내려 아무리 잡아 보려 행복하려 해도 내겐 사랑 만 오는 걸 사랑 속 고 이별 울 고 가슴 무너지고 까맣게 점점 타 들어가도 억지로 웃고 거짓말 하고 어차피 한번 은 겪을 이별 어차피 한번 은 흘릴 눈물 이렇게 밖에 이렇게 밖에 전 겪었던 겪게 될 이별 없을 사랑 은 마지막 한번 나머진 다 이별 어차피 한 번은 겪을 이별 또다시 사랑 날 속 이고 익숙한 눈물 흘러내려 아무리 잡아 보려 행복하려 해도 내겐 사랑 만 오는 걸 사랑 속 고 이별 울 고 정말 만큼은 이러기 싫었는데 가슴 무너지고 까맣게 점점 타 들어가도 억지로 바보 같은 말 만 되 뇌 한번 은 겪을 이별 이라고 어차피 한 번은 겪을 이별 어차피 한 번은 흘릴 눈물 말 다 거짓 돼 핑계 라고 해도 이렇게 밖에 말 할 수 없어',\n",
       "  'url_new_song': 'https://i.scdn.co/image/ab67616d0000b273fc6219562f44570f09587a6a'},\n",
       " {'key': 315,\n",
       "  'song_name': '기억해줘요 내 모든 날과 그때를',\n",
       "  'artist_name': '거미',\n",
       "  'lyric_str': '듣고있나요 나의 이 모든 얘기를 그댈 향한 내 깊은 진심을 매일 그리움 속에 그대를 불러보지만 닿을 수 없는 마음을 나도 이젠 알 것 같아요 내 안의 그대를 놓을 수 없네요 애써도 그게 잘 안돼요 마음과 반대로 밀어내려 할수록 이토록 더 아파지네요 기억하나요 나의 이 모든 얘기를 그댈 향한 내 깊은 진심을 매일 그리움 속에 그대를 불러보지만 닿을 수 없는 마음을 나도 이젠 알 것 같아요 스쳐가는 이 계절을 지나 언젠가는 멀어질 걸 아니까 더 모질게 그댈 밀어냈어요 너무 가슴이 미칠 듯 아파도 듣고 있나요 나의 이 모든 얘기를 그댈 향한 내 깊은 진심을 매일 그리움 속에 그대를 불러보지만 닿을 수 없는 마음을 나도 이젠 알 것 같아요 아무 이유 없이 눈물 나는 날에는 그댈 찾아가고 있네요 이렇게 기억해줘요 내 모든 날과 그때를 지울수록 선명해지니까 가슴 아프겠지만 그대를 보내야 해요 나를 기억해주세요 나 그대만 사랑했음을 듣고있나요 모든 얘기 댈 향 한 내 깊은 진심 매일 그리움 속 그대 불러 보지 만 닿을 수 없는 마음 나도 젠 알 같아요 내 안 그대 놓을 수 없네요 애써도 그게 잘 안 돼요 마음 반대 밀어내려 할수록 토록 더 아파지네요 기억 하나요 모든 얘기 댈 향 한 내 깊은 진심 매일 그리움 속 그대 불러 보지 만 닿을 수 없는 마음 나도 젠 알 같아요 스쳐가는 계절 지나 는 멀어질 걸 아니까 더 모질게 댈 밀어 냈어요 너무 가슴 미칠 듯 아파도 듣고 있나요 모든 얘기 댈 향 한 내 깊은 진심 매일 그리움 속 그대 불러 보지 만 닿을 수 없는 마음 나도 젠 알 같아요 아무 이유 없이 눈물 는 날 에는 댈 찾아가고 있네요 이렇게 기억 해줘요 내 모든 날 지 울 수록 선명해지니까 가슴 아프겠지만 그대 보내야 해 요 나를 기억 해주세요 그대만 사랑 했 음',\n",
       "  'url_new_song': 'https://i.scdn.co/image/ab67616d0000b2738bcaa841ffc9dccf233e0ae4'},\n",
       " {'key': 6301,\n",
       "  'song_name': 'A Kid From Bathroom',\n",
       "  'artist_name': '카더가든',\n",
       "  'lyric_str': '지려 했지 어 그게 편하던데 쓴 적 없는 조각 빚을 메우다 나 두고 왔던 짐들을 챙겨두어 그래 이게 붉어진 최선이길 그건 내가 아니라 내가 보려던 나뉜 나일 걸 믿어도 나는 나를 대비하려 해본 적도 없는 것 랄라랄라 랄라랄라라 해 본 적도 없는 것 랄라랄라 랄라랄라라 난 싫어 풀지 마오 삶은 되풀이되어 언젠가는 다시 물어올테오 그건 내가 아니라 내가 보려던 나뉜 나일 걸 믿어도 나는 나를 대비하려 해본 적도 없는 것 다시 만나면 다시 구르면 소리 지를 걸 알아 숨을게요 안 보이고는 말게요 지려 했지 그게 편하던데 쓴 적 없는 조각 빚 메우다 두고 왔던 짐 챙겨 두어 게 붉어진 최선 이길 그건 내 아니라 내 보려던 나뉜 나일 걸 믿어도 는 나를 대비 하려 해본 적도 없는 랄라 랄라 랄라 랄라라 해 본 적도 없는 랄라 랄라 랄라 랄라라 난 싫어 풀 지 마오 삶은 되풀이 되어 는 다시 물어 올 테오 그건 내 아니라 내 보려던 나뉜 나일 걸 믿어도 는 나를 대비 하려 해본 적도 없는 다시 만나면 다시 구르면 소리 지를 걸 알 숨을게요 안 보이고는 말게요',\n",
       "  'url_new_song': 'https://i.scdn.co/image/ab67616d0000b273956e5ad1d9ae34dd548aaa62'},\n",
       " {'key': 2554,\n",
       "  'song_name': 'LET ME OUT',\n",
       "  'artist_name': 'HYNN (박혜원)',\n",
       "  'lyric_str': '바람이 부는 소리에 노을 진 내방 창가에 익숙한 집 앞 거리에 그때의 우리가 내 눈 앞에 그려지네 어느새 계절의 그 끝에 서있어도 아직도 자꾸 네가 마음에 남아 let 아직 네 곁에 살아 let 네가 너무 그리워 멈춰 있어 시간도 들지 않아 햇살도 이제는 어떤 사랑도 하고싶지 않아 언제부터일까 네 맘에서 조금씩 내가 없어졌다는 걸 알지 못하고 그런 너에게 기대였던 게 너를 기다렸던 게 내 잘못이지 뭐 그때로 돌아간다면 내가 널 보낼 텐데 그리운 마음이 널 보면 잊혀질까 가슴에 네가 아직 눈물로 남아 let 아직 네 곁에 살아 let 네가 너무 그리워 멈춰 있어 시간도 들지 않아 햇살도 이제는 어떤 사랑도 하고싶지 않아 널 닮아 시작하는 사랑도 걱정마 다시는 예전처럼 후회도 하지 않아 너에게 다 줬으니 이제 누군가 내 맘을 채워 줄테니까 바람이 부는 소리에 그 모습 생각이 나네 바람 부는 소리 노을 진 내 방 창가 익숙한 집 앞 거리 내 눈 앞 그려지네 어느새 계절 끝 서있어도 아직도 자꾸 마음 남아 Let Me Out 아직 곁 살 Let Me Out 너무 그리워 멈춰 있어 도 들지 않아 햇살 도 이제 는 사랑 도 하고싶지 않아 일까 맘 조금씩 내 없어졌다는 걸 알 지 못 하고 그런 기대였던 게 기다렸던 게 내 잘못 이지 뭐 돌아간다면 내 널 보낼 텐데 그리운 마음 널 보면 잊혀질까 가슴 아직 눈물 남아 Let Me Out 아직 곁 살 Let Me Out 너무 그리워 멈춰 있어 도 들지 않아 햇살 도 이제 는 사랑 도 하고싶지 않아 널 닮아 시작 하는 사랑 도 걱정 마 다시는 예전 처럼 후회 도 하지 않아 다 줬으니 이제 누군가 내 맘 채워 줄테니까 바람 부는 소리 모습 생각 나네',\n",
       "  'url_new_song': 'https://i.scdn.co/image/ab67616d0000b2733aceceb2213ce55de5b0bcce'},\n",
       " {'key': 1560,\n",
       "  'song_name': '사랑해요',\n",
       "  'artist_name': '김범수',\n",
       "  'lyric_str': '아무 말 못한 채 오늘도 그대만 바라봐요 가슴에 맺힌 못다한 얘기들이 그대를 기다리죠 한 걸음 다가서면 가슴 깊이 참았던 눈물이 흐를까봐 혹시 그대도 나와 같다면 조금씩 다가갈게요 그댈 보면 자꾸 눈물이 나요 한없이 흘러요 결국 내 마음만 아파요 참아왔던 그리움에 지치면 내 손을 잡아 봐요 그대 나 사랑해요 가끔은 소리없이 불어오는 바람에 귀를 기울여 봐요 그대 나를 부르는 소리가 바람에 실려 올까 봐 그댈 보면 자꾸 눈물이 나요 한없이 흘러요 결국 내 마음만 아파요 참아왔던 그리움에 지치면 내 손을 잡아 봐요 그대 나 사랑해요 하루를 견디다 너무 힘들면 찾을 사람 그게 나란 걸 그댄 알잖아요 그댈 생각하면 눈물이 나죠 또 웃음이 나죠 결국 내 사랑은 그대죠 간절하게 바라고 늘 바랬던 이렇게 그대 곁에 서서 사랑할래요 아무 말 못 한 채 오늘 도 그대만 바라봐요 가슴 맺힌 못 다한 얘기 그대 기다리죠 한 걸음 다가서면 가슴 깊이 참았던 눈물 흐를까봐 그대 도 나와 같다면 조금씩 다가갈게요 댈 보면 자꾸 눈물 나요 한없이 흘러요 내 마음 만 아파요 참아 왔던 그리움 지치면 내 손 잡아 봐요 그대 사랑 가끔 은 소리 없이 불어오는 바람 귀 기울여 봐요 그대 나를 부르는 소리 바람 실려 올까 댈 보면 자꾸 눈물 나요 한없이 흘러요 내 마음 만 아파요 참아 왔던 그리움 지치면 내 손 잡아 봐요 그대 사랑 하루 견디다 너무 힘들면 찾을 사람 그게 나란 걸 댄 알잖아요 댈 생각 하면 눈물 나죠 웃음 나죠 내 사랑 은 그대 죠 간절하게 바라고 늘 바랬던 이렇게 그대 곁 서서 사랑 할래요',\n",
       "  'url_new_song': 'https://i.scdn.co/image/ab67616d0000b273c17461c17fc852cd5c88399a'}]"
      ]
     },
     "execution_count": 43,
     "metadata": {},
     "output_type": "execute_result"
    }
   ],
   "source": [
    "result = get_data_by_keys(df, song_id_list)\n",
    "result"
   ]
  }
 ],
 "metadata": {
  "kernelspec": {
   "display_name": "Python 3",
   "language": "python",
   "name": "python3"
  },
  "language_info": {
   "codemirror_mode": {
    "name": "ipython",
    "version": 3
   },
   "file_extension": ".py",
   "mimetype": "text/x-python",
   "name": "python",
   "nbconvert_exporter": "python",
   "pygments_lexer": "ipython3",
   "version": "3.11.2"
  },
  "orig_nbformat": 4
 },
 "nbformat": 4,
 "nbformat_minor": 2
}
