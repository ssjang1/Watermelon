{
 "cells": [
  {
   "cell_type": "code",
   "execution_count": null,
   "metadata": {},
   "outputs": [],
   "source": [
    "pip install tensorflow"
   ]
  },
  {
   "cell_type": "code",
   "execution_count": null,
   "metadata": {},
   "outputs": [],
   "source": [
    "pip install tensorflow_recommenders"
   ]
  },
  {
   "cell_type": "code",
   "execution_count": 96,
   "metadata": {},
   "outputs": [
    {
     "name": "stderr",
     "output_type": "stream",
     "text": [
      "C:\\Users\\401-14\\AppData\\Local\\Temp\\ipykernel_28180\\841987660.py:12: UserWarning: pandas only supports SQLAlchemy connectable (engine/connection) or database string URI or sqlite3 DBAPI2 connection. Other DBAPI2 objects are not tested. Please consider using SQLAlchemy.\n",
      "  new_song = pd.read_sql_query('SELECT * FROM new_song', connection)\n"
     ]
    }
   ],
   "source": [
    "import pymysql\n",
    "import pandas as pd\n",
    "\n",
    "host = '34.64.95.29'\n",
    "port = 3306\n",
    "user = 'root'\n",
    "password = 'acorn1234'\n",
    "database = 'music'\n",
    "\n",
    "connection = pymysql.connect(host=host, port=port, user=user, password=password, database=database)\n",
    "\n",
    "new_song = pd.read_sql_query('SELECT * FROM new_song', connection)\n",
    "\n",
    "connection.close()\n"
   ]
  },
  {
   "cell_type": "code",
   "execution_count": 106,
   "metadata": {},
   "outputs": [],
   "source": [
    "import numpy as np\n",
    "\n",
    "# 기존 데이터의 평균과 표준편차\n",
    "mean_likes = 500\n",
    "std_likes = 350\n",
    "\n",
    "# new_song 데이터에 like 열 추가\n",
    "new_song['like'] = np.random.normal(loc=mean_likes, scale=std_likes, size=len(new_song))\n",
    "\n",
    "# 좋아요 숫자는 음수가 되지 않도록 조정\n",
    "new_song['like'] = new_song['like'].apply(lambda x: max(0, x))\n",
    "new_song['like'] = new_song['like'].apply(lambda x:int(x))"
   ]
  },
  {
   "cell_type": "code",
   "execution_count": 107,
   "metadata": {},
   "outputs": [
    {
     "data": {
      "text/html": [
       "<div>\n",
       "<style scoped>\n",
       "    .dataframe tbody tr th:only-of-type {\n",
       "        vertical-align: middle;\n",
       "    }\n",
       "\n",
       "    .dataframe tbody tr th {\n",
       "        vertical-align: top;\n",
       "    }\n",
       "\n",
       "    .dataframe thead th {\n",
       "        text-align: right;\n",
       "    }\n",
       "</style>\n",
       "<table border=\"1\" class=\"dataframe\">\n",
       "  <thead>\n",
       "    <tr style=\"text-align: right;\">\n",
       "      <th></th>\n",
       "      <th>id</th>\n",
       "      <th>title</th>\n",
       "      <th>singer</th>\n",
       "      <th>lyric_str</th>\n",
       "      <th>sentiment_score</th>\n",
       "      <th>age</th>\n",
       "      <th>gender</th>\n",
       "      <th>like</th>\n",
       "    </tr>\n",
       "  </thead>\n",
       "  <tbody>\n",
       "    <tr>\n",
       "      <th>0</th>\n",
       "      <td>0</td>\n",
       "      <td>떠나보낼 준비해 둘걸 그랬어</td>\n",
       "      <td>임한별</td>\n",
       "      <td>너랑 입으려 고른 옷 오늘 받아봤어 오래 걸려서 잊고 있었는데 곧 있을 너의 생일에...</td>\n",
       "      <td>0</td>\n",
       "      <td>2</td>\n",
       "      <td>0</td>\n",
       "      <td>476</td>\n",
       "    </tr>\n",
       "    <tr>\n",
       "      <th>1</th>\n",
       "      <td>1</td>\n",
       "      <td>매일 멀어지는 사이</td>\n",
       "      <td>신용재 (2F)</td>\n",
       "      <td>우리의 시간은 여기 멈춰버렸고 굳어버린 채로 멍하니 서서 또 오늘에서 매일 멀어져 ...</td>\n",
       "      <td>3</td>\n",
       "      <td>2</td>\n",
       "      <td>0</td>\n",
       "      <td>859</td>\n",
       "    </tr>\n",
       "    <tr>\n",
       "      <th>2</th>\n",
       "      <td>2</td>\n",
       "      <td>U R</td>\n",
       "      <td>태연 (TAEYEON)</td>\n",
       "      <td>오랫동안 내 마음엔 구름 가득 비가 내려 따스한 햇살 비추길 간절히 바랬죠 어깨를 ...</td>\n",
       "      <td>3</td>\n",
       "      <td>2</td>\n",
       "      <td>1</td>\n",
       "      <td>1172</td>\n",
       "    </tr>\n",
       "    <tr>\n",
       "      <th>3</th>\n",
       "      <td>3</td>\n",
       "      <td>비로소 너에게 도착했다 (Full Bloom)</td>\n",
       "      <td>마크툽 (MAKTUB)</td>\n",
       "      <td>너 햇살처럼 다가와 나의 그늘에 아늑히 내려앉아 긴 하루와 지친 맘을 안아주면 나 ...</td>\n",
       "      <td>1</td>\n",
       "      <td>2</td>\n",
       "      <td>0</td>\n",
       "      <td>0</td>\n",
       "    </tr>\n",
       "    <tr>\n",
       "      <th>4</th>\n",
       "      <td>4</td>\n",
       "      <td>바라보기</td>\n",
       "      <td>엠씨더맥스 (M.C the MAX)</td>\n",
       "      <td>마음이 알고 가 낯선 길인데도 니 숨결이 머문 자리는 너무 그립다 그립다 못해 아프...</td>\n",
       "      <td>2</td>\n",
       "      <td>3</td>\n",
       "      <td>0</td>\n",
       "      <td>593</td>\n",
       "    </tr>\n",
       "    <tr>\n",
       "      <th>...</th>\n",
       "      <td>...</td>\n",
       "      <td>...</td>\n",
       "      <td>...</td>\n",
       "      <td>...</td>\n",
       "      <td>...</td>\n",
       "      <td>...</td>\n",
       "      <td>...</td>\n",
       "      <td>...</td>\n",
       "    </tr>\n",
       "    <tr>\n",
       "      <th>9233</th>\n",
       "      <td>9233</td>\n",
       "      <td>3500 (Feat. Future &amp; 2 Chainz)</td>\n",
       "      <td>Travis Scott</td>\n",
       "      <td>bandana wrappedwrapped round head bandana wrap...</td>\n",
       "      <td>3</td>\n",
       "      <td>2</td>\n",
       "      <td>0</td>\n",
       "      <td>713</td>\n",
       "    </tr>\n",
       "    <tr>\n",
       "      <th>9234</th>\n",
       "      <td>9234</td>\n",
       "      <td>Mamacita (Feat. Rich Homie Quan &amp; Young Thug)</td>\n",
       "      <td>Travis Scott</td>\n",
       "      <td>mamacita cita cita mamacita cita cita last day...</td>\n",
       "      <td>3</td>\n",
       "      <td>2</td>\n",
       "      <td>0</td>\n",
       "      <td>0</td>\n",
       "    </tr>\n",
       "    <tr>\n",
       "      <th>9235</th>\n",
       "      <td>9235</td>\n",
       "      <td>좋은 하루</td>\n",
       "      <td>전상근</td>\n",
       "      <td>어젠 비가 그쳤지 오랜만에 보인 별빛 그걸로 충분하던 날 별 것 아닌 일이지만 낮엔...</td>\n",
       "      <td>2</td>\n",
       "      <td>2</td>\n",
       "      <td>0</td>\n",
       "      <td>0</td>\n",
       "    </tr>\n",
       "    <tr>\n",
       "      <th>9236</th>\n",
       "      <td>9236</td>\n",
       "      <td>Cursive</td>\n",
       "      <td>Billie Marten</td>\n",
       "      <td>write cursive lines need help miss shoulder kn...</td>\n",
       "      <td>3</td>\n",
       "      <td>1</td>\n",
       "      <td>1</td>\n",
       "      <td>940</td>\n",
       "    </tr>\n",
       "    <tr>\n",
       "      <th>9237</th>\n",
       "      <td>9237</td>\n",
       "      <td>La Lune</td>\n",
       "      <td>Billie Marten</td>\n",
       "      <td>breaking back heart land feet water softened s...</td>\n",
       "      <td>3</td>\n",
       "      <td>1</td>\n",
       "      <td>1</td>\n",
       "      <td>376</td>\n",
       "    </tr>\n",
       "  </tbody>\n",
       "</table>\n",
       "<p>9238 rows × 8 columns</p>\n",
       "</div>"
      ],
      "text/plain": [
       "        id                                          title  \\\n",
       "0        0                                떠나보낼 준비해 둘걸 그랬어   \n",
       "1        1                                     매일 멀어지는 사이   \n",
       "2        2                                            U R   \n",
       "3        3                      비로소 너에게 도착했다 (Full Bloom)   \n",
       "4        4                                           바라보기   \n",
       "...    ...                                            ...   \n",
       "9233  9233                 3500 (Feat. Future & 2 Chainz)   \n",
       "9234  9234  Mamacita (Feat. Rich Homie Quan & Young Thug)   \n",
       "9235  9235                                          좋은 하루   \n",
       "9236  9236                                        Cursive   \n",
       "9237  9237                                        La Lune   \n",
       "\n",
       "                   singer                                          lyric_str  \\\n",
       "0                     임한별  너랑 입으려 고른 옷 오늘 받아봤어 오래 걸려서 잊고 있었는데 곧 있을 너의 생일에...   \n",
       "1                신용재 (2F)  우리의 시간은 여기 멈춰버렸고 굳어버린 채로 멍하니 서서 또 오늘에서 매일 멀어져 ...   \n",
       "2            태연 (TAEYEON)  오랫동안 내 마음엔 구름 가득 비가 내려 따스한 햇살 비추길 간절히 바랬죠 어깨를 ...   \n",
       "3            마크툽 (MAKTUB)  너 햇살처럼 다가와 나의 그늘에 아늑히 내려앉아 긴 하루와 지친 맘을 안아주면 나 ...   \n",
       "4     엠씨더맥스 (M.C the MAX)  마음이 알고 가 낯선 길인데도 니 숨결이 머문 자리는 너무 그립다 그립다 못해 아프...   \n",
       "...                   ...                                                ...   \n",
       "9233         Travis Scott  bandana wrappedwrapped round head bandana wrap...   \n",
       "9234         Travis Scott  mamacita cita cita mamacita cita cita last day...   \n",
       "9235                  전상근  어젠 비가 그쳤지 오랜만에 보인 별빛 그걸로 충분하던 날 별 것 아닌 일이지만 낮엔...   \n",
       "9236        Billie Marten  write cursive lines need help miss shoulder kn...   \n",
       "9237        Billie Marten  breaking back heart land feet water softened s...   \n",
       "\n",
       "      sentiment_score  age  gender  like  \n",
       "0                   0    2       0   476  \n",
       "1                   3    2       0   859  \n",
       "2                   3    2       1  1172  \n",
       "3                   1    2       0     0  \n",
       "4                   2    3       0   593  \n",
       "...               ...  ...     ...   ...  \n",
       "9233                3    2       0   713  \n",
       "9234                3    2       0     0  \n",
       "9235                2    2       0     0  \n",
       "9236                3    1       1   940  \n",
       "9237                3    1       1   376  \n",
       "\n",
       "[9238 rows x 8 columns]"
      ]
     },
     "execution_count": 107,
     "metadata": {},
     "output_type": "execute_result"
    }
   ],
   "source": [
    "new_song"
   ]
  },
  {
   "cell_type": "code",
   "execution_count": 303,
   "metadata": {},
   "outputs": [
    {
     "data": {
      "text/plain": [
       "True"
      ]
     },
     "execution_count": 303,
     "metadata": {},
     "output_type": "execute_result"
    }
   ],
   "source": [
    "import pandas as pd\n",
    "import numpy as np\n",
    "from annoy import AnnoyIndex\n",
    "from sklearn.feature_extraction.text import TfidfVectorizer\n",
    "\n",
    "# TF-IDF 벡터화\n",
    "tfidf_vectorizer = TfidfVectorizer()\n",
    "tfidf_matrix = tfidf_vectorizer.fit_transform(new_song['lyric_str'])\n",
    "tfidf_matrix_dense = tfidf_matrix.toarray()\n",
    "\n",
    "annoy_index = AnnoyIndex(tfidf_matrix_dense.shape[1], 'angular')  # cosine 유사도 사용\n",
    "for i in range(tfidf_matrix_dense.shape[0]):\n",
    "    annoy_index.add_item(i, tfidf_matrix_dense[i])\n",
    "annoy_index.build(100)  # 100개의 트리를 사용하여 인덱스를 구축\n",
    "\n",
    "\n"
   ]
  },
  {
   "cell_type": "code",
   "execution_count": 316,
   "metadata": {},
   "outputs": [],
   "source": [
    "tfidf_vectorizer = TfidfVectorizer()\n",
    "tfidf_matrix = tfidf_vectorizer.fit_transform(new_song['lyric_str'])\n",
    "tfidf_matrix_dense = tfidf_matrix.toarray()"
   ]
  },
  {
   "cell_type": "code",
   "execution_count": 315,
   "metadata": {},
   "outputs": [
    {
     "data": {
      "text/plain": [
       "True"
      ]
     },
     "execution_count": 315,
     "metadata": {},
     "output_type": "execute_result"
    }
   ],
   "source": [
    "annoy_index = AnnoyIndex(tfidf_matrix_dense.shape[1], 'angular')  # cosine 유사도 사용\n",
    "for i in range(tfidf_matrix_dense.shape[0]):\n",
    "    annoy_index.add_item(i, tfidf_matrix_dense[i])\n",
    "annoy_index.build(100)  # 100개의 트리를 사용하여 인덱스를 구축"
   ]
  },
  {
   "cell_type": "code",
   "execution_count": 319,
   "metadata": {},
   "outputs": [],
   "source": [
    "import pickle\n",
    "\n",
    "# # annoy_index를 피클로 저장\n",
    "# with open('C:/Users/401-14/Desktop/30-200/annoy_index.pkl', 'wb') as f:\n",
    "#     pickle.dump(annoy_index, f)\n",
    "\n",
    "# tfidf_matrix_dense를 피클로 저장\n",
    "with open('C:/Users/401-14/Desktop/30-200/tfidf_matrix_dense.pkl', 'wb') as f:\n",
    "    pickle.dump(tfidf_matrix_dense, f)\n"
   ]
  },
  {
   "cell_type": "code",
   "execution_count": 318,
   "metadata": {},
   "outputs": [
    {
     "data": {
      "text/plain": [
       "True"
      ]
     },
     "execution_count": 318,
     "metadata": {},
     "output_type": "execute_result"
    }
   ],
   "source": [
    "# annoy_index를 파일로 저장\n",
    "annoy_index.save('C:/Users/401-14/Desktop/30-200/annoy_index.ann')"
   ]
  },
  {
   "cell_type": "code",
   "execution_count": 286,
   "metadata": {},
   "outputs": [],
   "source": [
    "def recommend_songs(song_ids, annoy_index, tfidf_matrix, num_neighbors=6):\n",
    "    # song_ids가 int형이면 리스트로 변환\n",
    "    if isinstance(song_ids, int):\n",
    "        song_ids = [song_ids]\n",
    "\n",
    "    recommended_songs = []\n",
    "    \n",
    "    if len(song_ids)==1:\n",
    "        query_vector = tfidf_matrix[song_ids[0]]\n",
    "        neighbors = annoy_index.get_nns_by_vector(query_vector, num_neighbors)\n",
    "        recommended_songs.append(neighbors[1:6])\n",
    "        return recommended_songs[0]\n",
    "    \n",
    "    if len(song_ids)==2:\n",
    "        query_vector = tfidf_matrix[song_ids[0]]\n",
    "        neighbors = annoy_index.get_nns_by_vector(query_vector, 4)\n",
    "        recommended_songs.append(neighbors[1])\n",
    "        recommended_songs.append(neighbors[2])\n",
    "        recommended_songs.append(neighbors[3])\n",
    "\n",
    "        query_vector = tfidf_matrix[song_ids[1]]\n",
    "        neighbors = annoy_index.get_nns_by_vector(query_vector, 3)\n",
    "        recommended_songs.append(neighbors[1])\n",
    "        recommended_songs.append(neighbors[2])\n",
    "        return recommended_songs\n",
    "    if len(song_ids)==3:\n",
    "        query_vector = tfidf_matrix[song_ids[0]]\n",
    "        neighbors = annoy_index.get_nns_by_vector(query_vector, 3)\n",
    "        recommended_songs.append(neighbors[1])\n",
    "        recommended_songs.append(neighbors[2])\n",
    "        query_vector = tfidf_matrix[song_ids[1]]\n",
    "        neighbors = annoy_index.get_nns_by_vector(query_vector, 3)\n",
    "        recommended_songs.append(neighbors[1])\n",
    "        recommended_songs.append(neighbors[2])\n",
    "        query_vector = tfidf_matrix[song_ids[2]]\n",
    "        neighbors = annoy_index.get_nns_by_vector(query_vector, 2)\n",
    "        recommended_songs.append(neighbors[1])\n",
    "        return recommended_songs\n",
    "    if len(song_ids)==4:\n",
    "        query_vector = tfidf_matrix[song_ids[0]]\n",
    "        neighbors = annoy_index.get_nns_by_vector(query_vector, 3)\n",
    "        recommended_songs.append(neighbors[1])\n",
    "        recommended_songs.append(neighbors[2])\n",
    "        query_vector = tfidf_matrix[song_ids[1]]\n",
    "        neighbors = annoy_index.get_nns_by_vector(query_vector, 2)\n",
    "        recommended_songs.append(neighbors[1])\n",
    "        query_vector = tfidf_matrix[song_ids[2]]\n",
    "        neighbors = annoy_index.get_nns_by_vector(query_vector, 2)\n",
    "        recommended_songs.append(neighbors[1])\n",
    "        query_vector = tfidf_matrix[song_ids[3]]\n",
    "        neighbors = annoy_index.get_nns_by_vector(query_vector, 2)\n",
    "        recommended_songs.append(neighbors[1])\n",
    "        return recommended_songs\n",
    "    if len(song_ids)==5:\n",
    "        query_vector = tfidf_matrix[song_ids[0]]\n",
    "        neighbors = annoy_index.get_nns_by_vector(query_vector, 2)\n",
    "        recommended_songs.append(neighbors[1])\n",
    "        query_vector = tfidf_matrix[song_ids[1]]\n",
    "        neighbors = annoy_index.get_nns_by_vector(query_vector, 2)\n",
    "        recommended_songs.append(neighbors[1])\n",
    "        query_vector = tfidf_matrix[song_ids[2]]\n",
    "        neighbors = annoy_index.get_nns_by_vector(query_vector, 2)\n",
    "        recommended_songs.append(neighbors[1])\n",
    "        query_vector = tfidf_matrix[song_ids[3]]\n",
    "        neighbors = annoy_index.get_nns_by_vector(query_vector, 2)\n",
    "        recommended_songs.append(neighbors[1])\n",
    "        query_vector = tfidf_matrix[song_ids[4]]\n",
    "        neighbors = annoy_index.get_nns_by_vector(query_vector, 2)\n",
    "        recommended_songs.append(neighbors[1])\n",
    "        return recommended_songs    \n"
   ]
  },
  {
   "cell_type": "code",
   "execution_count": 313,
   "metadata": {},
   "outputs": [
    {
     "data": {
      "text/plain": [
       "[357, 7936, 8490, 1717, 2773]"
      ]
     },
     "execution_count": 313,
     "metadata": {},
     "output_type": "execute_result"
    }
   ],
   "source": [
    "recommend_songs((1,2,3), annoy_index, tfidf_matrix_dense)"
   ]
  }
 ],
 "metadata": {
  "kernelspec": {
   "display_name": "Python 3",
   "language": "python",
   "name": "python3"
  },
  "language_info": {
   "codemirror_mode": {
    "name": "ipython",
    "version": 3
   },
   "file_extension": ".py",
   "mimetype": "text/x-python",
   "name": "python",
   "nbconvert_exporter": "python",
   "pygments_lexer": "ipython3",
   "version": "3.11.2"
  },
  "orig_nbformat": 4
 },
 "nbformat": 4,
 "nbformat_minor": 2
}
